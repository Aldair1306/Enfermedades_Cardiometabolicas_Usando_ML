{
  "nbformat": 4,
  "nbformat_minor": 0,
  "metadata": {
    "colab": {
      "provenance": []
    },
    "kernelspec": {
      "name": "python3",
      "display_name": "Python 3"
    },
    "language_info": {
      "name": "python"
    }
  },
  "cells": [
    {
      "cell_type": "code",
      "execution_count": null,
      "metadata": {
        "id": "f87lMcapupih"
      },
      "outputs": [],
      "source": [
        "import seaborn as sns\n",
        "import numpy as np\n",
        "import pandas as pd\n",
        "from sklearn.metrics import accuracy_score\n",
        "from sklearn.model_selection import train_test_split\n",
        "from sklearn.model_selection import cross_val_score\n",
        "from sklearn.model_selection import KFold\n",
        "from sklearn.model_selection import GridSearchCV\n",
        "\n",
        "#El modelo a usar:\n",
        "\n",
        "from sklearn.neighbors import KNeighborsClassifier"
      ]
    },
    {
      "cell_type": "markdown",
      "source": [
        "#Importamos el dataset\n",
        "Debe estar ya limpio y con todas las variables numericas (ya con one hot encoding o label encoding)"
      ],
      "metadata": {
        "id": "FEHvREsuvqeC"
      }
    },
    {
      "cell_type": "code",
      "source": [
        "#Importamos el dataset\n",
        "df=pd.read_csv('/content/ObesidadLimpia.csv')\n",
        "df.head()"
      ],
      "metadata": {
        "id": "wV_8dHYkvUFK",
        "colab": {
          "base_uri": "https://localhost:8080/",
          "height": 226
        },
        "outputId": "a6fe2180-e10a-45a8-8b8b-5371e7131037"
      },
      "execution_count": null,
      "outputs": [
        {
          "output_type": "execute_result",
          "data": {
            "text/plain": [
              "        Age    Height    Weight  FCVC       NCP      CAEC  CH2O       FAF  \\\n",
              "0  0.148936 -0.875432  0.198323   0.5  0.666667  0.333333   0.5  0.000000   \n",
              "1  0.148936 -1.950036  0.134859   1.0  0.666667  0.333333   1.0  1.000000   \n",
              "2  0.191489  1.058855  0.301450   0.5  0.666667  0.333333   0.5  0.666667   \n",
              "3  0.276596  1.058855  0.380779   1.0  0.666667  0.333333   0.5  0.666667   \n",
              "4  0.170213  0.843934  0.402991   0.5  0.000000  0.333333   0.5  0.000000   \n",
              "\n",
              "   TUE      CALC           NObeyesdad  Gender_Male  \\\n",
              "0  0.5  0.000000        Normal_Weight            0   \n",
              "1  0.0  0.333333        Normal_Weight            0   \n",
              "2  0.5  0.666667        Normal_Weight            1   \n",
              "3  0.0  0.666667   Overweight_Level_I            1   \n",
              "4  0.0  0.333333  Overweight_Level_II            1   \n",
              "\n",
              "   family_history_with_overweight_yes  SMOKE_yes  SCC_yes  FAVC_yes  \\\n",
              "0                                   1          0        0         0   \n",
              "1                                   1          1        1         0   \n",
              "2                                   1          0        0         0   \n",
              "3                                   0          0        0         0   \n",
              "4                                   0          0        0         0   \n",
              "\n",
              "   MTRANS_Bike  MTRANS_Motorbike  MTRANS_Public_Transportation  MTRANS_Walking  \n",
              "0            0                 0                             1               0  \n",
              "1            0                 0                             1               0  \n",
              "2            0                 0                             1               0  \n",
              "3            0                 0                             0               1  \n",
              "4            0                 0                             1               0  "
            ],
            "text/html": [
              "\n",
              "  <div id=\"df-7db33b15-180a-4168-a9cf-473c905d9693\" class=\"colab-df-container\">\n",
              "    <div>\n",
              "<style scoped>\n",
              "    .dataframe tbody tr th:only-of-type {\n",
              "        vertical-align: middle;\n",
              "    }\n",
              "\n",
              "    .dataframe tbody tr th {\n",
              "        vertical-align: top;\n",
              "    }\n",
              "\n",
              "    .dataframe thead th {\n",
              "        text-align: right;\n",
              "    }\n",
              "</style>\n",
              "<table border=\"1\" class=\"dataframe\">\n",
              "  <thead>\n",
              "    <tr style=\"text-align: right;\">\n",
              "      <th></th>\n",
              "      <th>Age</th>\n",
              "      <th>Height</th>\n",
              "      <th>Weight</th>\n",
              "      <th>FCVC</th>\n",
              "      <th>NCP</th>\n",
              "      <th>CAEC</th>\n",
              "      <th>CH2O</th>\n",
              "      <th>FAF</th>\n",
              "      <th>TUE</th>\n",
              "      <th>CALC</th>\n",
              "      <th>NObeyesdad</th>\n",
              "      <th>Gender_Male</th>\n",
              "      <th>family_history_with_overweight_yes</th>\n",
              "      <th>SMOKE_yes</th>\n",
              "      <th>SCC_yes</th>\n",
              "      <th>FAVC_yes</th>\n",
              "      <th>MTRANS_Bike</th>\n",
              "      <th>MTRANS_Motorbike</th>\n",
              "      <th>MTRANS_Public_Transportation</th>\n",
              "      <th>MTRANS_Walking</th>\n",
              "    </tr>\n",
              "  </thead>\n",
              "  <tbody>\n",
              "    <tr>\n",
              "      <th>0</th>\n",
              "      <td>0.148936</td>\n",
              "      <td>-0.875432</td>\n",
              "      <td>0.198323</td>\n",
              "      <td>0.5</td>\n",
              "      <td>0.666667</td>\n",
              "      <td>0.333333</td>\n",
              "      <td>0.5</td>\n",
              "      <td>0.000000</td>\n",
              "      <td>0.5</td>\n",
              "      <td>0.000000</td>\n",
              "      <td>Normal_Weight</td>\n",
              "      <td>0</td>\n",
              "      <td>1</td>\n",
              "      <td>0</td>\n",
              "      <td>0</td>\n",
              "      <td>0</td>\n",
              "      <td>0</td>\n",
              "      <td>0</td>\n",
              "      <td>1</td>\n",
              "      <td>0</td>\n",
              "    </tr>\n",
              "    <tr>\n",
              "      <th>1</th>\n",
              "      <td>0.148936</td>\n",
              "      <td>-1.950036</td>\n",
              "      <td>0.134859</td>\n",
              "      <td>1.0</td>\n",
              "      <td>0.666667</td>\n",
              "      <td>0.333333</td>\n",
              "      <td>1.0</td>\n",
              "      <td>1.000000</td>\n",
              "      <td>0.0</td>\n",
              "      <td>0.333333</td>\n",
              "      <td>Normal_Weight</td>\n",
              "      <td>0</td>\n",
              "      <td>1</td>\n",
              "      <td>1</td>\n",
              "      <td>1</td>\n",
              "      <td>0</td>\n",
              "      <td>0</td>\n",
              "      <td>0</td>\n",
              "      <td>1</td>\n",
              "      <td>0</td>\n",
              "    </tr>\n",
              "    <tr>\n",
              "      <th>2</th>\n",
              "      <td>0.191489</td>\n",
              "      <td>1.058855</td>\n",
              "      <td>0.301450</td>\n",
              "      <td>0.5</td>\n",
              "      <td>0.666667</td>\n",
              "      <td>0.333333</td>\n",
              "      <td>0.5</td>\n",
              "      <td>0.666667</td>\n",
              "      <td>0.5</td>\n",
              "      <td>0.666667</td>\n",
              "      <td>Normal_Weight</td>\n",
              "      <td>1</td>\n",
              "      <td>1</td>\n",
              "      <td>0</td>\n",
              "      <td>0</td>\n",
              "      <td>0</td>\n",
              "      <td>0</td>\n",
              "      <td>0</td>\n",
              "      <td>1</td>\n",
              "      <td>0</td>\n",
              "    </tr>\n",
              "    <tr>\n",
              "      <th>3</th>\n",
              "      <td>0.276596</td>\n",
              "      <td>1.058855</td>\n",
              "      <td>0.380779</td>\n",
              "      <td>1.0</td>\n",
              "      <td>0.666667</td>\n",
              "      <td>0.333333</td>\n",
              "      <td>0.5</td>\n",
              "      <td>0.666667</td>\n",
              "      <td>0.0</td>\n",
              "      <td>0.666667</td>\n",
              "      <td>Overweight_Level_I</td>\n",
              "      <td>1</td>\n",
              "      <td>0</td>\n",
              "      <td>0</td>\n",
              "      <td>0</td>\n",
              "      <td>0</td>\n",
              "      <td>0</td>\n",
              "      <td>0</td>\n",
              "      <td>0</td>\n",
              "      <td>1</td>\n",
              "    </tr>\n",
              "    <tr>\n",
              "      <th>4</th>\n",
              "      <td>0.170213</td>\n",
              "      <td>0.843934</td>\n",
              "      <td>0.402991</td>\n",
              "      <td>0.5</td>\n",
              "      <td>0.000000</td>\n",
              "      <td>0.333333</td>\n",
              "      <td>0.5</td>\n",
              "      <td>0.000000</td>\n",
              "      <td>0.0</td>\n",
              "      <td>0.333333</td>\n",
              "      <td>Overweight_Level_II</td>\n",
              "      <td>1</td>\n",
              "      <td>0</td>\n",
              "      <td>0</td>\n",
              "      <td>0</td>\n",
              "      <td>0</td>\n",
              "      <td>0</td>\n",
              "      <td>0</td>\n",
              "      <td>1</td>\n",
              "      <td>0</td>\n",
              "    </tr>\n",
              "  </tbody>\n",
              "</table>\n",
              "</div>\n",
              "    <div class=\"colab-df-buttons\">\n",
              "\n",
              "  <div class=\"colab-df-container\">\n",
              "    <button class=\"colab-df-convert\" onclick=\"convertToInteractive('df-7db33b15-180a-4168-a9cf-473c905d9693')\"\n",
              "            title=\"Convert this dataframe to an interactive table.\"\n",
              "            style=\"display:none;\">\n",
              "\n",
              "  <svg xmlns=\"http://www.w3.org/2000/svg\" height=\"24px\" viewBox=\"0 -960 960 960\">\n",
              "    <path d=\"M120-120v-720h720v720H120Zm60-500h600v-160H180v160Zm220 220h160v-160H400v160Zm0 220h160v-160H400v160ZM180-400h160v-160H180v160Zm440 0h160v-160H620v160ZM180-180h160v-160H180v160Zm440 0h160v-160H620v160Z\"/>\n",
              "  </svg>\n",
              "    </button>\n",
              "\n",
              "  <style>\n",
              "    .colab-df-container {\n",
              "      display:flex;\n",
              "      gap: 12px;\n",
              "    }\n",
              "\n",
              "    .colab-df-convert {\n",
              "      background-color: #E8F0FE;\n",
              "      border: none;\n",
              "      border-radius: 50%;\n",
              "      cursor: pointer;\n",
              "      display: none;\n",
              "      fill: #1967D2;\n",
              "      height: 32px;\n",
              "      padding: 0 0 0 0;\n",
              "      width: 32px;\n",
              "    }\n",
              "\n",
              "    .colab-df-convert:hover {\n",
              "      background-color: #E2EBFA;\n",
              "      box-shadow: 0px 1px 2px rgba(60, 64, 67, 0.3), 0px 1px 3px 1px rgba(60, 64, 67, 0.15);\n",
              "      fill: #174EA6;\n",
              "    }\n",
              "\n",
              "    .colab-df-buttons div {\n",
              "      margin-bottom: 4px;\n",
              "    }\n",
              "\n",
              "    [theme=dark] .colab-df-convert {\n",
              "      background-color: #3B4455;\n",
              "      fill: #D2E3FC;\n",
              "    }\n",
              "\n",
              "    [theme=dark] .colab-df-convert:hover {\n",
              "      background-color: #434B5C;\n",
              "      box-shadow: 0px 1px 3px 1px rgba(0, 0, 0, 0.15);\n",
              "      filter: drop-shadow(0px 1px 2px rgba(0, 0, 0, 0.3));\n",
              "      fill: #FFFFFF;\n",
              "    }\n",
              "  </style>\n",
              "\n",
              "    <script>\n",
              "      const buttonEl =\n",
              "        document.querySelector('#df-7db33b15-180a-4168-a9cf-473c905d9693 button.colab-df-convert');\n",
              "      buttonEl.style.display =\n",
              "        google.colab.kernel.accessAllowed ? 'block' : 'none';\n",
              "\n",
              "      async function convertToInteractive(key) {\n",
              "        const element = document.querySelector('#df-7db33b15-180a-4168-a9cf-473c905d9693');\n",
              "        const dataTable =\n",
              "          await google.colab.kernel.invokeFunction('convertToInteractive',\n",
              "                                                    [key], {});\n",
              "        if (!dataTable) return;\n",
              "\n",
              "        const docLinkHtml = 'Like what you see? Visit the ' +\n",
              "          '<a target=\"_blank\" href=https://colab.research.google.com/notebooks/data_table.ipynb>data table notebook</a>'\n",
              "          + ' to learn more about interactive tables.';\n",
              "        element.innerHTML = '';\n",
              "        dataTable['output_type'] = 'display_data';\n",
              "        await google.colab.output.renderOutput(dataTable, element);\n",
              "        const docLink = document.createElement('div');\n",
              "        docLink.innerHTML = docLinkHtml;\n",
              "        element.appendChild(docLink);\n",
              "      }\n",
              "    </script>\n",
              "  </div>\n",
              "\n",
              "\n",
              "<div id=\"df-73f9f5d5-a712-4a02-bc0a-c1a48fb2014d\">\n",
              "  <button class=\"colab-df-quickchart\" onclick=\"quickchart('df-73f9f5d5-a712-4a02-bc0a-c1a48fb2014d')\"\n",
              "            title=\"Suggest charts\"\n",
              "            style=\"display:none;\">\n",
              "\n",
              "<svg xmlns=\"http://www.w3.org/2000/svg\" height=\"24px\"viewBox=\"0 0 24 24\"\n",
              "     width=\"24px\">\n",
              "    <g>\n",
              "        <path d=\"M19 3H5c-1.1 0-2 .9-2 2v14c0 1.1.9 2 2 2h14c1.1 0 2-.9 2-2V5c0-1.1-.9-2-2-2zM9 17H7v-7h2v7zm4 0h-2V7h2v10zm4 0h-2v-4h2v4z\"/>\n",
              "    </g>\n",
              "</svg>\n",
              "  </button>\n",
              "\n",
              "<style>\n",
              "  .colab-df-quickchart {\n",
              "      --bg-color: #E8F0FE;\n",
              "      --fill-color: #1967D2;\n",
              "      --hover-bg-color: #E2EBFA;\n",
              "      --hover-fill-color: #174EA6;\n",
              "      --disabled-fill-color: #AAA;\n",
              "      --disabled-bg-color: #DDD;\n",
              "  }\n",
              "\n",
              "  [theme=dark] .colab-df-quickchart {\n",
              "      --bg-color: #3B4455;\n",
              "      --fill-color: #D2E3FC;\n",
              "      --hover-bg-color: #434B5C;\n",
              "      --hover-fill-color: #FFFFFF;\n",
              "      --disabled-bg-color: #3B4455;\n",
              "      --disabled-fill-color: #666;\n",
              "  }\n",
              "\n",
              "  .colab-df-quickchart {\n",
              "    background-color: var(--bg-color);\n",
              "    border: none;\n",
              "    border-radius: 50%;\n",
              "    cursor: pointer;\n",
              "    display: none;\n",
              "    fill: var(--fill-color);\n",
              "    height: 32px;\n",
              "    padding: 0;\n",
              "    width: 32px;\n",
              "  }\n",
              "\n",
              "  .colab-df-quickchart:hover {\n",
              "    background-color: var(--hover-bg-color);\n",
              "    box-shadow: 0 1px 2px rgba(60, 64, 67, 0.3), 0 1px 3px 1px rgba(60, 64, 67, 0.15);\n",
              "    fill: var(--button-hover-fill-color);\n",
              "  }\n",
              "\n",
              "  .colab-df-quickchart-complete:disabled,\n",
              "  .colab-df-quickchart-complete:disabled:hover {\n",
              "    background-color: var(--disabled-bg-color);\n",
              "    fill: var(--disabled-fill-color);\n",
              "    box-shadow: none;\n",
              "  }\n",
              "\n",
              "  .colab-df-spinner {\n",
              "    border: 2px solid var(--fill-color);\n",
              "    border-color: transparent;\n",
              "    border-bottom-color: var(--fill-color);\n",
              "    animation:\n",
              "      spin 1s steps(1) infinite;\n",
              "  }\n",
              "\n",
              "  @keyframes spin {\n",
              "    0% {\n",
              "      border-color: transparent;\n",
              "      border-bottom-color: var(--fill-color);\n",
              "      border-left-color: var(--fill-color);\n",
              "    }\n",
              "    20% {\n",
              "      border-color: transparent;\n",
              "      border-left-color: var(--fill-color);\n",
              "      border-top-color: var(--fill-color);\n",
              "    }\n",
              "    30% {\n",
              "      border-color: transparent;\n",
              "      border-left-color: var(--fill-color);\n",
              "      border-top-color: var(--fill-color);\n",
              "      border-right-color: var(--fill-color);\n",
              "    }\n",
              "    40% {\n",
              "      border-color: transparent;\n",
              "      border-right-color: var(--fill-color);\n",
              "      border-top-color: var(--fill-color);\n",
              "    }\n",
              "    60% {\n",
              "      border-color: transparent;\n",
              "      border-right-color: var(--fill-color);\n",
              "    }\n",
              "    80% {\n",
              "      border-color: transparent;\n",
              "      border-right-color: var(--fill-color);\n",
              "      border-bottom-color: var(--fill-color);\n",
              "    }\n",
              "    90% {\n",
              "      border-color: transparent;\n",
              "      border-bottom-color: var(--fill-color);\n",
              "    }\n",
              "  }\n",
              "</style>\n",
              "\n",
              "  <script>\n",
              "    async function quickchart(key) {\n",
              "      const quickchartButtonEl =\n",
              "        document.querySelector('#' + key + ' button');\n",
              "      quickchartButtonEl.disabled = true;  // To prevent multiple clicks.\n",
              "      quickchartButtonEl.classList.add('colab-df-spinner');\n",
              "      try {\n",
              "        const charts = await google.colab.kernel.invokeFunction(\n",
              "            'suggestCharts', [key], {});\n",
              "      } catch (error) {\n",
              "        console.error('Error during call to suggestCharts:', error);\n",
              "      }\n",
              "      quickchartButtonEl.classList.remove('colab-df-spinner');\n",
              "      quickchartButtonEl.classList.add('colab-df-quickchart-complete');\n",
              "    }\n",
              "    (() => {\n",
              "      let quickchartButtonEl =\n",
              "        document.querySelector('#df-73f9f5d5-a712-4a02-bc0a-c1a48fb2014d button');\n",
              "      quickchartButtonEl.style.display =\n",
              "        google.colab.kernel.accessAllowed ? 'block' : 'none';\n",
              "    })();\n",
              "  </script>\n",
              "</div>\n",
              "\n",
              "    </div>\n",
              "  </div>\n"
            ],
            "application/vnd.google.colaboratory.intrinsic+json": {
              "type": "dataframe",
              "variable_name": "df",
              "summary": "{\n  \"name\": \"df\",\n  \"rows\": 2109,\n  \"fields\": [\n    {\n      \"column\": \"Age\",\n      \"properties\": {\n        \"dtype\": \"number\",\n        \"std\": 0.135038129060668,\n        \"min\": 0.0,\n        \"max\": 1.0,\n        \"num_unique_values\": 1402,\n        \"samples\": [\n          0.245249914893617,\n          0.2710777659574468,\n          0.1593841489361702\n        ],\n        \"semantic_type\": \"\",\n        \"description\": \"\"\n      }\n    },\n    {\n      \"column\": \"Height\",\n      \"properties\": {\n        \"dtype\": \"number\",\n        \"std\": 1.000237163527583,\n        \"min\": -2.702258560001534,\n        \"max\": 2.946535927863119,\n        \"num_unique_values\": 1573,\n        \"samples\": [\n          0.6308937262986607,\n          -0.1400162821381559,\n          0.4842532939657756\n        ],\n        \"semantic_type\": \"\",\n        \"description\": \"\"\n      }\n    },\n    {\n      \"column\": \"Weight\",\n      \"properties\": {\n        \"dtype\": \"number\",\n        \"std\": 0.207226844008352,\n        \"min\": 0.0,\n        \"max\": 1.0,\n        \"num_unique_values\": 1524,\n        \"samples\": [\n          0.4703945394850652,\n          0.20149571858486,\n          0.657079283543736\n        ],\n        \"semantic_type\": \"\",\n        \"description\": \"\"\n      }\n    },\n    {\n      \"column\": \"FCVC\",\n      \"properties\": {\n        \"dtype\": \"number\",\n        \"std\": 0.2669759575044166,\n        \"min\": 0.0,\n        \"max\": 1.0,\n        \"num_unique_values\": 810,\n        \"samples\": [\n          0.993574,\n          0.9698635,\n          0.9360605\n        ],\n        \"semantic_type\": \"\",\n        \"description\": \"\"\n      }\n    },\n    {\n      \"column\": \"NCP\",\n      \"properties\": {\n        \"dtype\": \"number\",\n        \"std\": 0.25944912028148226,\n        \"min\": 0.0,\n        \"max\": 1.0,\n        \"num_unique_values\": 635,\n        \"samples\": [\n          0.1563159999999999,\n          0.6649333333333334,\n          0.345598\n        ],\n        \"semantic_type\": \"\",\n        \"description\": \"\"\n      }\n    },\n    {\n      \"column\": \"CAEC\",\n      \"properties\": {\n        \"dtype\": \"number\",\n        \"std\": 0.15554540539900744,\n        \"min\": 0.0,\n        \"max\": 1.0,\n        \"num_unique_values\": 4,\n        \"samples\": [\n          0.6666666666666666,\n          0.0,\n          0.3333333333333333\n        ],\n        \"semantic_type\": \"\",\n        \"description\": \"\"\n      }\n    },\n    {\n      \"column\": \"CH2O\",\n      \"properties\": {\n        \"dtype\": \"number\",\n        \"std\": 0.3064316138959151,\n        \"min\": 0.0,\n        \"max\": 1.0,\n        \"num_unique_values\": 1268,\n        \"samples\": [\n          0.6976935,\n          0.4919865,\n          0.7250345\n        ],\n        \"semantic_type\": \"\",\n        \"description\": \"\"\n      }\n    },\n    {\n      \"column\": \"FAF\",\n      \"properties\": {\n        \"dtype\": \"number\",\n        \"std\": 0.28357421007360173,\n        \"min\": 0.0,\n        \"max\": 1.0,\n        \"num_unique_values\": 1190,\n        \"samples\": [\n          0.5518293333333333,\n          0.8113059999999999,\n          0.3259763333333333\n        ],\n        \"semantic_type\": \"\",\n        \"description\": \"\"\n      }\n    },\n    {\n      \"column\": \"TUE\",\n      \"properties\": {\n        \"dtype\": \"number\",\n        \"std\": 0.3045624070480872,\n        \"min\": 0.0,\n        \"max\": 1.0,\n        \"num_unique_values\": 1129,\n        \"samples\": [\n          0.7081765,\n          0.439129,\n          0.448962\n        ],\n        \"semantic_type\": \"\",\n        \"description\": \"\"\n      }\n    },\n    {\n      \"column\": \"CALC\",\n      \"properties\": {\n        \"dtype\": \"number\",\n        \"std\": 0.17189204271469827,\n        \"min\": 0.0,\n        \"max\": 1.0,\n        \"num_unique_values\": 4,\n        \"samples\": [\n          0.3333333333333333,\n          1.0,\n          0.0\n        ],\n        \"semantic_type\": \"\",\n        \"description\": \"\"\n      }\n    },\n    {\n      \"column\": \"NObeyesdad\",\n      \"properties\": {\n        \"dtype\": \"category\",\n        \"num_unique_values\": 7,\n        \"samples\": [\n          \"Normal_Weight\",\n          \"Overweight_Level_I\",\n          \"Obesity_Type_II\"\n        ],\n        \"semantic_type\": \"\",\n        \"description\": \"\"\n      }\n    },\n    {\n      \"column\": \"Gender_Male\",\n      \"properties\": {\n        \"dtype\": \"number\",\n        \"std\": 0,\n        \"min\": 0,\n        \"max\": 1,\n        \"num_unique_values\": 2,\n        \"samples\": [\n          1,\n          0\n        ],\n        \"semantic_type\": \"\",\n        \"description\": \"\"\n      }\n    },\n    {\n      \"column\": \"family_history_with_overweight_yes\",\n      \"properties\": {\n        \"dtype\": \"number\",\n        \"std\": 0,\n        \"min\": 0,\n        \"max\": 1,\n        \"num_unique_values\": 2,\n        \"samples\": [\n          0,\n          1\n        ],\n        \"semantic_type\": \"\",\n        \"description\": \"\"\n      }\n    },\n    {\n      \"column\": \"SMOKE_yes\",\n      \"properties\": {\n        \"dtype\": \"number\",\n        \"std\": 0,\n        \"min\": 0,\n        \"max\": 1,\n        \"num_unique_values\": 2,\n        \"samples\": [\n          1,\n          0\n        ],\n        \"semantic_type\": \"\",\n        \"description\": \"\"\n      }\n    },\n    {\n      \"column\": \"SCC_yes\",\n      \"properties\": {\n        \"dtype\": \"number\",\n        \"std\": 0,\n        \"min\": 0,\n        \"max\": 1,\n        \"num_unique_values\": 2,\n        \"samples\": [\n          1,\n          0\n        ],\n        \"semantic_type\": \"\",\n        \"description\": \"\"\n      }\n    },\n    {\n      \"column\": \"FAVC_yes\",\n      \"properties\": {\n        \"dtype\": \"number\",\n        \"std\": 0,\n        \"min\": 0,\n        \"max\": 1,\n        \"num_unique_values\": 2,\n        \"samples\": [\n          1,\n          0\n        ],\n        \"semantic_type\": \"\",\n        \"description\": \"\"\n      }\n    },\n    {\n      \"column\": \"MTRANS_Bike\",\n      \"properties\": {\n        \"dtype\": \"number\",\n        \"std\": 0,\n        \"min\": 0,\n        \"max\": 1,\n        \"num_unique_values\": 2,\n        \"samples\": [\n          1,\n          0\n        ],\n        \"semantic_type\": \"\",\n        \"description\": \"\"\n      }\n    },\n    {\n      \"column\": \"MTRANS_Motorbike\",\n      \"properties\": {\n        \"dtype\": \"number\",\n        \"std\": 0,\n        \"min\": 0,\n        \"max\": 1,\n        \"num_unique_values\": 2,\n        \"samples\": [\n          1,\n          0\n        ],\n        \"semantic_type\": \"\",\n        \"description\": \"\"\n      }\n    },\n    {\n      \"column\": \"MTRANS_Public_Transportation\",\n      \"properties\": {\n        \"dtype\": \"number\",\n        \"std\": 0,\n        \"min\": 0,\n        \"max\": 1,\n        \"num_unique_values\": 2,\n        \"samples\": [\n          0,\n          1\n        ],\n        \"semantic_type\": \"\",\n        \"description\": \"\"\n      }\n    },\n    {\n      \"column\": \"MTRANS_Walking\",\n      \"properties\": {\n        \"dtype\": \"number\",\n        \"std\": 0,\n        \"min\": 0,\n        \"max\": 1,\n        \"num_unique_values\": 2,\n        \"samples\": [\n          1,\n          0\n        ],\n        \"semantic_type\": \"\",\n        \"description\": \"\"\n      }\n    }\n  ]\n}"
            }
          },
          "metadata": {},
          "execution_count": 4
        }
      ]
    },
    {
      "cell_type": "code",
      "source": [
        "#Separamos el target del resto de variables\n",
        "X=df.drop(['NObeyesdad'],axis=1)\n",
        "y=df['NObeyesdad']"
      ],
      "metadata": {
        "id": "fdTERC-paFHX"
      },
      "execution_count": null,
      "outputs": []
    },
    {
      "cell_type": "markdown",
      "source": [
        "#Algoritmo genetico"
      ],
      "metadata": {
        "id": "9fSQaFyIxZZU"
      }
    },
    {
      "cell_type": "code",
      "source": [
        "#Este vector de nombres de variables sera el espacio sobre el que trabajaremos para optimizar\n",
        "#El fin es seleccionar las variables que nos den la mejor accuracy (o puede ser otra metrica)\n",
        "Variables=X.columns\n",
        "Variables"
      ],
      "metadata": {
        "colab": {
          "base_uri": "https://localhost:8080/"
        },
        "id": "2jQe22YAxXsn",
        "outputId": "0c580a55-2367-4530-8cf9-7a0111b2469e"
      },
      "execution_count": null,
      "outputs": [
        {
          "output_type": "execute_result",
          "data": {
            "text/plain": [
              "Index(['Age', 'Height', 'Weight', 'FCVC', 'NCP', 'CAEC', 'CH2O', 'FAF', 'TUE',\n",
              "       'CALC', 'Gender_Male', 'family_history_with_overweight_yes',\n",
              "       'SMOKE_yes', 'SCC_yes', 'FAVC_yes', 'MTRANS_Bike', 'MTRANS_Motorbike',\n",
              "       'MTRANS_Public_Transportation', 'MTRANS_Walking'],\n",
              "      dtype='object')"
            ]
          },
          "metadata": {},
          "execution_count": 6
        }
      ]
    },
    {
      "cell_type": "code",
      "source": [
        "#El primer paso es crear vectores iniciales aleatorios, se dice que el numero indicado  es 5*D vectores iniciales , D es la cantidad de variables\n",
        "NumVectores=5*X.shape[1]\n",
        "VectoresIniciales=np.random.randint(0,2,size=(NumVectores,X.shape[1]))"
      ],
      "metadata": {
        "id": "KMLaJ3whxwT5"
      },
      "execution_count": null,
      "outputs": []
    },
    {
      "cell_type": "code",
      "source": [
        "#ESTOS PARAMETROS SON LOS DEL ALGORITMO , LOS PODEMOS MODIFICAR, ESTOS LOS PUSE PARA PROBAR PERO LOS PUEDEN VARIAR PARA DIFERENTES RESULTADOS\n",
        "ProbCruce=0.6\n",
        "ProbMut=0.1\n",
        "Generaciones=10"
      ],
      "metadata": {
        "id": "KfNIil5Lx2gN"
      },
      "execution_count": null,
      "outputs": []
    },
    {
      "cell_type": "code",
      "source": [
        "#ESTE DICCIONARIO ES CON EL QUE SE VA A HACER GRIDSEARCH, SE PASA EL PARAMETRO Y QUE SE QUIERE PROBAR\n",
        "\n",
        "\"\"\"\n",
        "Esta adaptacion incluye un posible uso de gridsearch y validacion cruzada. En este caso se puede poner un rango\n",
        "de K y despues de ver los resultados escoger uno y volver a aplicar el algoritmo en busqueda de mejores resultados\n",
        "\"\"\"\n",
        "\n",
        "#PARA EL KNN:\n",
        "\n",
        "#Primero buscamos la mejor K de 1 a 20, encontramos que la mejor era K=6 y despues volvimos a ejecutar el algortimo\n",
        "Dict_Parametros={'n_neighbors': [6]}#{'n_neighbors': list(range(1, 21))}\n",
        "\n",
        "#METRICA DE EVALUACION A OPTIMIZAR: accuracy\n",
        "scoring='accuracy'\n",
        "\n",
        "#CUANTOS FOLDS PARA HACER LA VALIDACION CRUZADA USAR\n",
        "cv=5\n",
        "\n",
        "#EL TAMAÑO DE LA DIVISION EN EL TEST PRUEBA\n",
        "test_size=0.2\n",
        "\n",
        "#EL RANDOM STATE\n",
        "random_state=42"
      ],
      "metadata": {
        "id": "R9yuzEc-x_33"
      },
      "execution_count": null,
      "outputs": []
    },
    {
      "cell_type": "markdown",
      "source": [
        "## El algoritmo codificado"
      ],
      "metadata": {
        "id": "lpk-AzBJ1Wgp"
      }
    },
    {
      "cell_type": "code",
      "source": [
        "from typing import Dict\n",
        "#Esta es una funcion que en base a un vector binario me devuelve un vector de caracteristicas\n",
        "\n",
        "def ObtenerCaracteristicas(Binario,caracteristicas):\n",
        "    Caracteristicas=[]\n",
        "    for i in range(len(Binario)):\n",
        "        if Binario[i]==1:\n",
        "            Caracteristicas.append(caracteristicas[i])\n",
        "    return Caracteristicas\n",
        "\n",
        "#En esta funcion hacemos la evaluacion del modelos, con gridsearch y validacion cruzada. Debe cambiarse dependiendo del metodo\n",
        "\n",
        "def Evaluar(i,X,y,Parametros):\n",
        "\n",
        "    Caracteristicas=ObtenerCaracteristicas(i,Variables)\n",
        "\n",
        "    #Obtengo X con ellas\n",
        "    X_train, X_test, y_train, y_test = train_test_split(X[Caracteristicas], y, test_size=test_size, random_state=random_state)\n",
        "\n",
        "    # Crear el modelo KNN\n",
        "    knn = KNeighborsClassifier()\n",
        "\n",
        "    # Definir los posibles valores de K a explorar\n",
        "    param_grid = Dict_Parametros#{'n_neighbors': list(range(1, 21))}  # Valores de K entre 1 y 20\n",
        "\n",
        "    # Configurar la búsqueda en cuadrícula con validación cruzada de 5 pliegues\n",
        "    grid_search = GridSearchCV(knn, param_grid, cv=cv, scoring=scoring)\n",
        "\n",
        "    # Entrenar el modelo con búsqueda de hiperparámetros\n",
        "    grid_search.fit(X_train, y_train)\n",
        "\n",
        "    promedio_puntajes = np.mean(grid_search.cv_results_['mean_test_score'])\n",
        "\n",
        "    return promedio_puntajes,grid_search.best_params_\n",
        "\n",
        "  #Paso 3: Hacemos la seleccion de dos padres que despues se van a cruzar\n",
        "def Seleccion(VectoresIniciales):\n",
        "  #Como la generacion actual puede tener individuos repetidos nos quedamos solamente con los unicos\n",
        "  variables_unicas, indices_unicos = np.unique(VectoresIniciales, axis=0, return_index=True)\n",
        "\n",
        "  # Me quedo tambien con las metricas de esos individuos unicos, este array de metricas tiene las accuracy del individuo en su misma posicion\n",
        "  metricas_filtradas = Metricas[indices_unicos]\n",
        "\n",
        "  #Ahora hago la ruleta\n",
        "  Total=np.sum(metricas_filtradas)\n",
        "  Probabilidades=metricas_filtradas/Total\n",
        "  Probabilidades=np.cumsum(Probabilidades)\n",
        "\n",
        "  #Creamos un numero entre 0 y 1 aleatorio\n",
        "\n",
        "  N=np.random.random()\n",
        "\n",
        "  #Hacemos a los padres usando probabilidad\n",
        "  Padre1=None\n",
        "  Padre2=None\n",
        "  for i in range(len(Probabilidades)):\n",
        "      if N<Probabilidades[i]:\n",
        "          Padre1=variables_unicas[i]\n",
        "          break\n",
        "  N=np.random.random()\n",
        "  for i in range(len(Probabilidades)):\n",
        "      if N<Probabilidades[i]:\n",
        "          Padre2=variables_unicas[i]\n",
        "          break\n",
        "  return Padre1,Padre2\n",
        "\n",
        "\n",
        "#Paso 4: Hacemos el cruce de los papás\n",
        "\n",
        "def Cruce(padre1, padre2, ProbCruce):\n",
        "    # Generamos un número aleatorio entre 0 y 1 para determinar si se debe hacer el cruce\n",
        "    if np.random.random() < ProbCruce:\n",
        "        # Si la probabilidad es menor que la tasa de cruce, realizamos el cruce\n",
        "        punto_cruce = np.random.randint(1, len(padre1)-1)  # Elegimos un punto aleatorio para el cruce (Claramente no puede ser ni 0 ni el ultimo)\n",
        "\n",
        "        # Generamos los hijos intercambiando las partes antes y después del punto de cruce\n",
        "        hijo1 = np.concatenate((padre1[:punto_cruce], padre2[punto_cruce:]))\n",
        "        hijo2 = np.concatenate((padre2[:punto_cruce], padre1[punto_cruce:]))\n",
        "    else:\n",
        "        # Si no se hace cruce, los hijos son copias directas de los padres\n",
        "        hijo1 = np.copy(padre1)\n",
        "        hijo2 = np.copy(padre2)\n",
        "\n",
        "    return hijo1, hijo2\n",
        "\n",
        "#Paso 5: Vemos si habra mutacion\n",
        "def Mutacion(hijo, ProbMut):\n",
        "    for i in range(len(hijo)):\n",
        "        # Generamos un número aleatorio entre 0 y 1 para determinar si mutamos el gen\n",
        "        if np.random.random() < ProbMut:\n",
        "            # Cambiamos el valor del gen, que es binario (0 o 1)\n",
        "            hijo[i] = 1 - hijo[i]  # Cambiar 0 a 1 o 1 a 0\n",
        "    return hijo\n"
      ],
      "metadata": {
        "id": "C3-pqBs4yiVM"
      },
      "execution_count": null,
      "outputs": []
    },
    {
      "cell_type": "code",
      "source": [
        "def reemplazo_elitista(poblacion_actual, hijos_generados, fitness_poblacion, fitness_hijos, Parametros,ParametrosN,num_individuos_elites):\n",
        "    # Paso 1: Combinar la población actual y los hijos generados\n",
        "    poblacion_completa = np.concatenate((poblacion_actual, hijos_generados))\n",
        "    fitness_completo = np.concatenate((fitness_poblacion, fitness_hijos))\n",
        "    parametros_completo=np.concatenate((Parametros,ParametrosN))\n",
        "\n",
        "    #print(poblacion_completa)\n",
        "    #print(fitness_completo)\n",
        "    #print(parametros_completo)\n",
        "\n",
        "    # Paso 2: Ordenar la población completa por fitness (de mayor a menor), en ese mismo orden ponemos las accuracy y los parametros para no perderlos\n",
        "    indices_ordenados = np.argsort(fitness_completo)[::-1]  # Ordena los índices de mayor a menor fitness\n",
        "    #print(indices_ordenados)\n",
        "\n",
        "    # Paso 3: Seleccionar los mejores individuos según el número de élites\n",
        "    mejores_individuos = poblacion_completa[indices_ordenados[:num_individuos_elites]]\n",
        "    #print(mejores_individuos)\n",
        "    mejores_fitness = fitness_completo[indices_ordenados[:num_individuos_elites]]\n",
        "    mejores_parametros = parametros_completo[indices_ordenados[:num_individuos_elites]]\n",
        "    #print(mejores_parametros)\n",
        "\n",
        "    #Hasta aqui todo va bien\n",
        "\n",
        "    # Paso 4: Seleccionar aleatoriamente el resto de la población para completar la nueva generación\n",
        "    resto_individuos = poblacion_completa[indices_ordenados[num_individuos_elites:]]\n",
        "    resto_fitness = fitness_completo[indices_ordenados[num_individuos_elites:]]\n",
        "    resto_parametros = parametros_completo[indices_ordenados[num_individuos_elites:]]\n",
        "\n",
        "    # Necesitamos completar la población con los mejores, por lo tanto elegimos el número restante\n",
        "    num_faltantes = len(poblacion_actual) - num_individuos_elites\n",
        "\n",
        "    individuos_restantes = resto_individuos[np.random.choice(len(resto_individuos), num_faltantes, replace=False)]\n",
        "\n",
        "    indices = [np.where(np.all(resto_individuos == x, axis=1))[0][0] for x in individuos_restantes]\n",
        "\n",
        "    #print(resto_individuos)\n",
        "    #print(individuos_restantes)\n",
        "    fitness_restantes = resto_fitness[indices]\n",
        "    parametros_restantes = resto_parametros[indices]\n",
        "\n",
        "    # Paso 5: Construir la nueva población\n",
        "    nueva_poblacion = np.concatenate((mejores_individuos, individuos_restantes))\n",
        "    nueva_fitness = np.concatenate((mejores_fitness, fitness_restantes))\n",
        "    nueva_parametros = np.concatenate((mejores_parametros, parametros_restantes))\n",
        "\n",
        "    return nueva_poblacion, nueva_fitness, nueva_parametros"
      ],
      "metadata": {
        "id": "pytcl0Mr1IX9"
      },
      "execution_count": null,
      "outputs": []
    },
    {
      "cell_type": "code",
      "source": [
        "\n",
        "#Si encontramos un vector de puros ceros lo cambiamos por otro\n",
        "for i in range(len(VectoresIniciales)):\n",
        "    if np.array_equal(VectoresIniciales[i],np.zeros(X.shape[1])):\n",
        "        while(True):\n",
        "            VectoresIniciales[i]=np.random.randint(0,2,size=(1,X.shape[1]))\n",
        "            if not np.array_equal(VectoresIniciales[i],np.zeros(X.shape[1])):\n",
        "                break\n",
        "\n",
        "#Paso 2: Obtenemos sus accuracy\n",
        "\n",
        "Metricas=np.zeros(len(VectoresIniciales))\n",
        "Parametros=np.empty(len(VectoresIniciales), dtype=object)\n",
        "\n",
        "for i in range(len(VectoresIniciales)):\n",
        "    #print(Evaluar(VectoresIniciales[i],X,y,Parametros))\n",
        "    Metricas[i],Parametros[i]=Evaluar(VectoresIniciales[i],X,y,Parametros)\n",
        "\n",
        "\n",
        "\n",
        "for i in range(Generaciones):\n",
        "  print(f\"Generacion {i}\")\n",
        "  NuevaGeneracion=[]\n",
        "\n",
        "  #Paso 3 4 5: Creamos una nueva generacion en base a seleccionar 2 papas, cruzarlos (a veces) y ver si el hijo muta (a veces)\n",
        "  for i in range(round(len(VectoresIniciales)/2)):\n",
        "    padre1,padre2=Seleccion(VectoresIniciales)\n",
        "    hijo1,hijo2=Cruce(padre1,padre2,ProbCruce)\n",
        "    hijo1=Mutacion(hijo1,ProbMut)\n",
        "    hijo2=Mutacion(hijo2,ProbMut)\n",
        "\n",
        "    #Checamos que los hijos no sean 0\n",
        "    NuevaGeneracion.append(hijo1)\n",
        "    NuevaGeneracion.append(hijo2)\n",
        "\n",
        "  #Esto significa que la division no tiene sobrante\n",
        "  if (len(VectoresIniciales)%2 == 1):\n",
        "      NuevaGeneracion.append(NuevaGeneracion[-1])\n",
        "\n",
        "\n",
        "  #Paso 6:\n",
        "  #Calculamos las accuracy de esta nueva generacion\n",
        "  MetricasN=np.zeros(len(NuevaGeneracion))\n",
        "  ParametrosN=np.empty(len(NuevaGeneracion), dtype=object)\n",
        "\n",
        "  for i in range(len(VectoresIniciales)):\n",
        "      #Si el vector es de puros ceros lo penalizamos con metrica 0 y parametro vacio\n",
        "      if np.array_equal(NuevaGeneracion[i],np.zeros(X.shape[1])):\n",
        "          MetricasN[i]=0\n",
        "          ParametrosN[i]={}\n",
        "      else:\n",
        "        #print(NuevaGeneracion[i])\n",
        "        MetricasN[i],ParametrosN[i]=Evaluar(NuevaGeneracion[i],X,y,ParametrosN)\n",
        "\n",
        "  #Paso 7: Seleccion, lo haremos por elitismo\n",
        "  #Aqui obtenemos la nueva generacion, guardando las metricas y parametros. La nueva generacion se vuelve a guardad en vectores iniciales\n",
        "  VectoresIniciales,Metricas,Parametros=reemplazo_elitista(VectoresIniciales,NuevaGeneracion,Metricas,MetricasN,Parametros,ParametrosN,3)"
      ],
      "metadata": {
        "colab": {
          "base_uri": "https://localhost:8080/"
        },
        "id": "a-2up6oS1UuB",
        "outputId": "b6faef6d-2d5c-46c5-9097-6581e5cc0248"
      },
      "execution_count": null,
      "outputs": [
        {
          "output_type": "stream",
          "name": "stdout",
          "text": [
            "Generacion 0\n",
            "Generacion 1\n",
            "Generacion 2\n",
            "Generacion 3\n",
            "Generacion 4\n",
            "Generacion 5\n",
            "Generacion 6\n",
            "Generacion 7\n",
            "Generacion 8\n",
            "Generacion 9\n"
          ]
        }
      ]
    },
    {
      "cell_type": "markdown",
      "source": [
        "# Resultados"
      ],
      "metadata": {
        "id": "3fJzHlM5dR5S"
      }
    },
    {
      "cell_type": "code",
      "source": [
        "#Ordenamos las mejores combinaciones\n",
        "indices_ordenados = np.argsort(Metricas)[::-1]\n",
        "\n",
        "\n",
        "for i in range(5):\n",
        "  print(ObtenerCaracteristicas(VectoresIniciales[indices_ordenados[i]],Variables))\n",
        "  print(Metricas[indices_ordenados][i])\n",
        "  print(Parametros[indices_ordenados][i])\n",
        "  print(\"/*-/*-/*-/*-/*-/*-/*-/*-/*-/*-/*- \\n\")"
      ],
      "metadata": {
        "colab": {
          "base_uri": "https://localhost:8080/"
        },
        "id": "c_raGa0w2XnM",
        "outputId": "16ab150e-e693-4bc7-ac7e-84e9f2c4dcdd"
      },
      "execution_count": null,
      "outputs": [
        {
          "output_type": "stream",
          "name": "stdout",
          "text": [
            "['Age', 'Weight', 'Gender_Male', 'family_history_with_overweight_yes', 'SCC_yes', 'MTRANS_Bike', 'MTRANS_Public_Transportation']\n",
            "0.8328393587695115\n",
            "{'n_neighbors': 6}\n",
            "/*-/*-/*-/*-/*-/*-/*-/*-/*-/*-/*- \n",
            "\n",
            "['Age', 'Weight', 'Gender_Male', 'family_history_with_overweight_yes', 'SMOKE_yes', 'SCC_yes', 'MTRANS_Bike', 'MTRANS_Motorbike', 'MTRANS_Public_Transportation']\n",
            "0.8275086474812564\n",
            "{'n_neighbors': 6}\n",
            "/*-/*-/*-/*-/*-/*-/*-/*-/*-/*-/*- \n",
            "\n",
            "['Age', 'Weight', 'Gender_Male', 'family_history_with_overweight_yes', 'SMOKE_yes', 'SCC_yes', 'MTRANS_Public_Transportation']\n",
            "0.8269134198374097\n",
            "{'n_neighbors': 6}\n",
            "/*-/*-/*-/*-/*-/*-/*-/*-/*-/*-/*- \n",
            "\n",
            "['Age', 'Weight', 'NCP', 'Gender_Male', 'family_history_with_overweight_yes', 'SMOKE_yes', 'MTRANS_Bike', 'MTRANS_Public_Transportation']\n",
            "0.8103243024950398\n",
            "{'n_neighbors': 6}\n",
            "/*-/*-/*-/*-/*-/*-/*-/*-/*-/*-/*- \n",
            "\n",
            "['Age', 'Weight', 'CALC', 'FAVC_yes', 'MTRANS_Bike', 'MTRANS_Motorbike', 'MTRANS_Walking']\n",
            "0.79670605587063\n",
            "{'n_neighbors': 6}\n",
            "/*-/*-/*-/*-/*-/*-/*-/*-/*-/*-/*- \n",
            "\n"
          ]
        }
      ]
    },
    {
      "cell_type": "code",
      "source": [
        "print(\"La mejor combinacion de variables es:\")\n",
        "print(ObtenerCaracteristicas(VectoresIniciales[indices_ordenados[0]],Variables))\n",
        "print(f\"Con un fit de {Metricas[indices_ordenados[0]]}\")\n",
        "print(\"Y sus parametros son:\")\n",
        "print(Parametros[indices_ordenados[0]])"
      ],
      "metadata": {
        "colab": {
          "base_uri": "https://localhost:8080/"
        },
        "id": "HzKH4JLcdVwC",
        "outputId": "f52cff65-54a8-48a5-a07b-0d0b34ad5c50"
      },
      "execution_count": null,
      "outputs": [
        {
          "output_type": "stream",
          "name": "stdout",
          "text": [
            "La mejor combinacion de variables es:\n",
            "['Age', 'Weight', 'Gender_Male', 'family_history_with_overweight_yes', 'SCC_yes', 'MTRANS_Bike', 'MTRANS_Public_Transportation']\n",
            "Con un fit de 0.8328393587695115\n",
            "Y sus parametros son:\n",
            "{'n_neighbors': 6}\n"
          ]
        }
      ]
    },
    {
      "cell_type": "code",
      "source": [
        "for i in VectoresIniciales[:5]:\n",
        "  print(ObtenerCaracteristicas(i,Variables))"
      ],
      "metadata": {
        "id": "wyyYfjaAayxA",
        "colab": {
          "base_uri": "https://localhost:8080/"
        },
        "outputId": "ab25fe70-0ac5-4ce1-decd-f6e349a6aafe"
      },
      "execution_count": null,
      "outputs": [
        {
          "output_type": "stream",
          "name": "stdout",
          "text": [
            "['Age', 'Weight', 'Gender_Male', 'family_history_with_overweight_yes', 'SCC_yes', 'MTRANS_Bike', 'MTRANS_Public_Transportation']\n",
            "['Age', 'Weight', 'Gender_Male', 'family_history_with_overweight_yes', 'SMOKE_yes', 'SCC_yes', 'MTRANS_Bike', 'MTRANS_Motorbike', 'MTRANS_Public_Transportation']\n",
            "['Age', 'Weight', 'Gender_Male', 'family_history_with_overweight_yes', 'SMOKE_yes', 'SCC_yes', 'MTRANS_Public_Transportation']\n",
            "['FCVC', 'CAEC', 'FAF', 'TUE', 'CALC', 'Gender_Male', 'family_history_with_overweight_yes', 'SMOKE_yes', 'FAVC_yes']\n",
            "['NCP', 'CAEC', 'SMOKE_yes', 'MTRANS_Bike', 'MTRANS_Motorbike', 'MTRANS_Walking']\n"
          ]
        }
      ]
    },
    {
      "cell_type": "code",
      "source": [
        "Variables"
      ],
      "metadata": {
        "colab": {
          "base_uri": "https://localhost:8080/"
        },
        "id": "lvwvVwLTpzzL",
        "outputId": "d2ebe001-5456-4a8d-cfb2-c9833746cdf2"
      },
      "execution_count": null,
      "outputs": [
        {
          "output_type": "execute_result",
          "data": {
            "text/plain": [
              "Index(['Age', 'Height', 'Weight', 'FCVC', 'NCP', 'CAEC', 'CH2O', 'FAF', 'TUE',\n",
              "       'CALC', 'Gender_Male', 'family_history_with_overweight_yes',\n",
              "       'SMOKE_yes', 'SCC_yes', 'FAVC_yes', 'MTRANS_Bike', 'MTRANS_Motorbike',\n",
              "       'MTRANS_Public_Transportation', 'MTRANS_Walking'],\n",
              "      dtype='object')"
            ]
          },
          "metadata": {},
          "execution_count": 57
        }
      ]
    },
    {
      "cell_type": "code",
      "source": [
        "#Aqui hacemos un diccionario con las variables y que tantas veces aparecieron en las mejores combinaciones\n",
        "\n",
        "# Inicializamos el diccionario\n",
        "contador_variables = {}\n",
        "\n",
        "# Iteraramos sobre VectoresIniciales\n",
        "for i in VectoresIniciales[:5]:\n",
        "    # Obtener el array de características (nombres de variables)\n",
        "    caracteristicas = ObtenerCaracteristicas(i, Variables)\n",
        "\n",
        "    # Contabilizamos las veces que aparece cada variable\n",
        "    for var in caracteristicas:\n",
        "        if var in contador_variables:\n",
        "            contador_variables[var] += 1  # Si la variable ya está, sumamos 1\n",
        "        else:\n",
        "            contador_variables[var] = 1   # Si no está, la agregamos con valor 1\n",
        "\n",
        "# Imprimimos el diccionario con las frecuencias\n",
        "contador_variables = dict(sorted(contador_variables.items(), key=lambda item: item[1], reverse=True))\n",
        "\n",
        "print(contador_variables)"
      ],
      "metadata": {
        "colab": {
          "base_uri": "https://localhost:8080/"
        },
        "id": "vvVKGT32qdgf",
        "outputId": "6f5bcd1f-1a67-49ad-b939-499126ada4aa"
      },
      "execution_count": null,
      "outputs": [
        {
          "output_type": "stream",
          "name": "stdout",
          "text": [
            "{'Gender_Male': 4, 'family_history_with_overweight_yes': 4, 'SMOKE_yes': 4, 'Age': 3, 'Weight': 3, 'SCC_yes': 3, 'MTRANS_Bike': 3, 'MTRANS_Public_Transportation': 3, 'MTRANS_Motorbike': 2, 'CAEC': 2, 'FCVC': 1, 'FAF': 1, 'TUE': 1, 'CALC': 1, 'FAVC_yes': 1, 'NCP': 1, 'MTRANS_Walking': 1}\n"
          ]
        }
      ]
    },
    {
      "cell_type": "code",
      "source": [
        "#Imprimimos las frecuencias de las variables\n",
        "\n",
        "import matplotlib.pyplot as plt\n",
        "\n",
        "plt.figure(figsize=(10, 6))\n",
        "plt.bar(list(contador_variables.keys()),contador_variables.values())\n",
        "plt.xticks(rotation=90)\n",
        "plt.xlabel('Variables')\n",
        "plt.ylabel('Frecuencia')\n",
        "plt.title('Frecuencia de cada variable')\n",
        "plt.show()"
      ],
      "metadata": {
        "colab": {
          "base_uri": "https://localhost:8080/",
          "height": 800
        },
        "id": "6JONozeeq3Wg",
        "outputId": "719d24bc-d425-4dac-eb53-b0122f43d941"
      },
      "execution_count": null,
      "outputs": [
        {
          "output_type": "display_data",
          "data": {
            "text/plain": [
              "<Figure size 1000x600 with 1 Axes>"
            ],
            "image/png": "[encoded data removed]"
          },
          "metadata": {}
        }
      ]
    }
  ]
}